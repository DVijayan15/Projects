{
 "cells": [
  {
   "cell_type": "code",
   "execution_count": 2,
   "id": "99edb077-191e-4498-a6d5-712ce68c45a7",
   "metadata": {},
   "outputs": [
    {
     "ename": "KeyboardInterrupt",
     "evalue": "",
     "output_type": "error",
     "traceback": [
      "\u001b[0;31m---------------------------------------------------------------------------\u001b[0m",
      "\u001b[0;31mKeyboardInterrupt\u001b[0m                         Traceback (most recent call last)",
      "Cell \u001b[0;32mIn[2], line 36\u001b[0m\n\u001b[1;32m     33\u001b[0m mask \u001b[38;5;241m=\u001b[39m cv2\u001b[38;5;241m.\u001b[39mmorphologyEx(mask, cv2\u001b[38;5;241m.\u001b[39mMORPH_OPEN, np\u001b[38;5;241m.\u001b[39mones((\u001b[38;5;241m5\u001b[39m, \u001b[38;5;241m5\u001b[39m), np\u001b[38;5;241m.\u001b[39muint8))\n\u001b[1;32m     35\u001b[0m \u001b[38;5;66;03m# Replace the maroon color with the background\u001b[39;00m\n\u001b[0;32m---> 36\u001b[0m img[np\u001b[38;5;241m.\u001b[39mwhere(mask \u001b[38;5;241m==\u001b[39m \u001b[38;5;241m255\u001b[39m)] \u001b[38;5;241m=\u001b[39m background[np\u001b[38;5;241m.\u001b[39mwhere(mask \u001b[38;5;241m==\u001b[39m \u001b[38;5;241m255\u001b[39m)]\n\u001b[1;32m     38\u001b[0m \u001b[38;5;66;03m# Display the result\u001b[39;00m\n\u001b[1;32m     39\u001b[0m cv2\u001b[38;5;241m.\u001b[39mimshow(\u001b[38;5;124m'\u001b[39m\u001b[38;5;124mDisplay\u001b[39m\u001b[38;5;124m'\u001b[39m, img)\n",
      "File \u001b[0;32m<__array_function__ internals>:200\u001b[0m, in \u001b[0;36mwhere\u001b[0;34m(*args, **kwargs)\u001b[0m\n",
      "\u001b[0;31mKeyboardInterrupt\u001b[0m: "
     ]
    }
   ],
   "source": [
    "import cv2\n",
    "import numpy as np\n",
    "import time\n",
    "\n",
    "# Initialize the video capture object\n",
    "cap = cv2.VideoCapture(0)\n",
    "time.sleep(3)\n",
    "\n",
    "# Capture the background\n",
    "background = 0\n",
    "for i in range(30):\n",
    "    ret, background = cap.read()\n",
    "background = np.flip(background, axis=1)\n",
    "\n",
    "while cap.isOpened():\n",
    "    ret, img = cap.read()\n",
    "    if not ret:\n",
    "        break\n",
    "\n",
    "    img = np.flip(img, axis=1)\n",
    "\n",
    "    # Convert the image to HSV color space\n",
    "    hsv = cv2.cvtColor(img, cv2.COLOR_BGR2HSV)\n",
    "    \n",
    "    # Define the range for maroon color in HSV space\n",
    "    lower_maroon = np.array([160, 100, 20])\n",
    "    upper_maroon = np.array([179, 255, 255])\n",
    "\n",
    "    # Create a mask for the maroon color\n",
    "    mask = cv2.inRange(hsv, lower_maroon, upper_maroon)\n",
    "\n",
    "    # Morphological operations to remove noise\n",
    "    mask = cv2.morphologyEx(mask, cv2.MORPH_OPEN, np.ones((5, 5), np.uint8))\n",
    "\n",
    "    # Replace the maroon color with the background\n",
    "    img[np.where(mask == 255)] = background[np.where(mask == 255)]\n",
    "\n",
    "    # Display the result\n",
    "    cv2.imshow('Display', img)\n",
    "    \n",
    "    # Exit if 'q' is pressed\n",
    "    k = cv2.waitKey(10)\n",
    "    if k == ord('q'):\n",
    "        break\n",
    "\n",
    "# Release the video capture object and close the display window\n",
    "cap.release()\n",
    "cv2.destroyAllWindows()\n"
   ]
  },
  {
   "cell_type": "code",
   "execution_count": null,
   "id": "cfc1565a-2497-4131-8d67-0ae8138bdcee",
   "metadata": {},
   "outputs": [],
   "source": []
  }
 ],
 "metadata": {
  "kernelspec": {
   "display_name": "Python 3 (ipykernel)",
   "language": "python",
   "name": "python3"
  },
  "language_info": {
   "codemirror_mode": {
    "name": "ipython",
    "version": 3
   },
   "file_extension": ".py",
   "mimetype": "text/x-python",
   "name": "python",
   "nbconvert_exporter": "python",
   "pygments_lexer": "ipython3",
   "version": "3.11.5"
  }
 },
 "nbformat": 4,
 "nbformat_minor": 5
}
