{
 "cells": [
  {
   "cell_type": "code",
   "execution_count": 3,
   "id": "f9a39b21-5ff4-4259-b85c-45c666173c7b",
   "metadata": {},
   "outputs": [
    {
     "name": "stdout",
     "output_type": "stream",
     "text": [
      "Found 375 images belonging to 25 classes.\n",
      "{'Apple___Apple_scab': 0, 'Apple___Black_rot': 1, 'Apple___Cedar_apple_rust': 2, 'Apple___Healthy': 3, 'Corn_(maize)___Cercospora_leaf_spot Gray_leaf_spot': 4, 'Corn_(maize)___Common_rust': 5, 'Corn_(maize)___Healthy': 6, 'Corn_(maize)___Northern_Leaf_Blight': 7, 'Grape___Black_rot': 8, 'Grape___Esca_(Black_Measles)': 9, 'Grape___Healthy': 10, 'Grape___Leaf_blight_(Isariopsis_Leaf_Spot)': 11, 'Potato___Early_blight': 12, 'Potato___Healthy': 13, 'Potato___Late_blight': 14, 'Tomato___Bacterial_spot': 15, 'Tomato___Early_blight': 16, 'Tomato___Healthy': 17, 'Tomato___Late_blight': 18, 'Tomato___Leaf_Mold': 19, 'Tomato___Septoria_leaf_spot': 20, 'Tomato___Spider_mites Two-spotted_spider_mite': 21, 'Tomato___Target_Spot': 22, 'Tomato___Tomato_Yellow_Leaf_Curl_Virus': 23, 'Tomato___Tomato_mosaic_virus': 24}\n",
      "Found 127 images belonging to 25 classes.\n",
      "{'Apple___Apple_scab': 0, 'Apple___Black_rot': 1, 'Apple___Cedar_apple_rust': 2, 'Apple___Healthy': 3, 'Corn_(maize)___Cercospora_leaf_spot Gray_leaf_spot': 4, 'Corn_(maize)___Common_rust_': 5, 'Corn_(maize)___Healthy': 6, 'Corn_(maize)___Northern_Leaf_Blight': 7, 'Grape___Black_rot': 8, 'Grape___Esca_(Black_Measles)': 9, 'Grape___Healthy': 10, 'Grape___Leaf_blight_(Isariopsis_Leaf_Spot)': 11, 'Potato___Early_blight': 12, 'Potato___Healthy': 13, 'Potato___Late_blight': 14, 'Tomato___Bacterial_spot': 15, 'Tomato___Early_blight': 16, 'Tomato___Healthy': 17, 'Tomato___Late_blight': 18, 'Tomato___Leaf_Mold': 19, 'Tomato___Septoria_leaf_spot': 20, 'Tomato___Spider_mites Two-spotted_spider_mite': 21, 'Tomato___Target_Spot': 22, 'Tomato___Tomato_Yellow_Leaf_Curl_Virus': 23, 'Tomato___Tomato_mosaic_virus': 24}\n",
      "Epoch 1/1000000\n"
     ]
    },
    {
     "name": "stderr",
     "output_type": "stream",
     "text": [
      "/var/folders/yk/4thk018s5h75b3sldp4192400000gn/T/ipykernel_4332/578943485.py:61: UserWarning: `Model.fit_generator` is deprecated and will be removed in a future version. Please use `Model.fit`, which supports generators.\n",
      "  model.fit_generator(training_set,\n"
     ]
    },
    {
     "name": "stdout",
     "output_type": "stream",
     "text": [
      " 12/375 [..............................] - ETA: 41s - loss: 3.3215 - accuracy: 0.1013WARNING:tensorflow:Your input ran out of data; interrupting training. Make sure that your dataset or generator can generate at least `steps_per_epoch * epochs` batches (in this case, 375000000 batches). You may need to use the repeat() function when building your dataset.\n",
      "WARNING:tensorflow:Your input ran out of data; interrupting training. Make sure that your dataset or generator can generate at least `steps_per_epoch * epochs` batches (in this case, 125 batches). You may need to use the repeat() function when building your dataset.\n",
      "375/375 [==============================] - 2s 4ms/step - loss: 3.3215 - accuracy: 0.1013 - val_loss: 3.2433 - val_accuracy: 0.0394\n",
      "Saved model to disk\n"
     ]
    }
   ],
   "source": [
    "from keras.models import Sequential\n",
    "#initialize nn\n",
    "\n",
    "from keras.layers import Conv2D\n",
    "from keras.layers import MaxPooling2D\n",
    "from keras.layers import Flatten\n",
    "from keras.preprocessing.image import ImageDataGenerator\n",
    "from keras.layers import Dense\n",
    "\n",
    "from keras.layers import BatchNormalization\n",
    "from keras.layers import Dropout\n",
    "\n",
    "#basic cnn\n",
    "model = Sequential()\n",
    "model.add(Conv2D(32, kernel_size = (3, 3), activation='relu', input_shape=(128,128, 3)))\n",
    "model.add(MaxPooling2D(pool_size=(2,2)))\n",
    "model.add(BatchNormalization())\n",
    "model.add(Conv2D(64, kernel_size=(3,3), activation='relu'))\n",
    "model.add(MaxPooling2D(pool_size=(2,2)))\n",
    "model.add(BatchNormalization())\n",
    "model.add(Conv2D(64, kernel_size=(3,3), activation='relu'))\n",
    "model.add(MaxPooling2D(pool_size=(2,2)))\n",
    "model.add(BatchNormalization())\n",
    "model.add(Conv2D(96, kernel_size=(3,3), activation='relu'))\n",
    "model.add(MaxPooling2D(pool_size=(2,2)))\n",
    "model.add(BatchNormalization())\n",
    "model.add(Conv2D(32, kernel_size=(3,3), activation='relu'))\n",
    "model.add(MaxPooling2D(pool_size=(2,2)))\n",
    "model.add(BatchNormalization())\n",
    "model.add(Dropout(0.2))\n",
    "model.add(Flatten())\n",
    "model.add(Dense(128, activation='relu'))\n",
    "model.add(Dropout(0.3))\n",
    "model.add(Dense(25, activation = 'softmax'))\n",
    "\n",
    "model.compile(optimizer = 'adam', loss = 'categorical_crossentropy', metrics = ['accuracy'])\n",
    "\n",
    "train_datagen = ImageDataGenerator(rescale = None,\n",
    "                                   shear_range = 0.2,\n",
    "                                   zoom_range = 0.2,\n",
    "                                   horizontal_flip = True)\n",
    "\n",
    "test_datagen = ImageDataGenerator(rescale = 1./255)\n",
    "\n",
    "training_set = train_datagen.flow_from_directory('/Users/dhayaneyv/Desktop/LeafDisease_2/dataset/train',\n",
    "                                                 target_size = (128, 128),\n",
    "                                                 batch_size = 32,\n",
    "                                                 class_mode = 'categorical')\n",
    "#print(test_datagen);\n",
    "labels = (training_set.class_indices)\n",
    "print(labels)\n",
    "\n",
    "test_set = test_datagen.flow_from_directory('/Users/dhayaneyv/Desktop/LeafDisease_2/dataset/test',\n",
    "                                            target_size = (128, 128),\n",
    "                                            batch_size = 32,\n",
    "                                            class_mode = 'categorical')\n",
    "\n",
    "labels2 = (test_set.class_indices)\n",
    "print(labels2)\n",
    "\n",
    "model.fit_generator(training_set,\n",
    "                         steps_per_epoch = 375,\n",
    "                         epochs = 1000000,\n",
    "                         validation_data = test_set,\n",
    "                         validation_steps = 125)\n",
    "\n",
    "\n",
    "model_json=model.to_json()\n",
    "with open(\"model1.json\", \"w\") as json_file:\n",
    "    json_file.write(model_json)\n",
    "# serialize weights to HDF5\n",
    "    model.save_weights(\"model1.h5\")\n",
    "    print(\"Saved model to disk\")"
   ]
  },
  {
   "cell_type": "code",
   "execution_count": 7,
   "id": "d45c79eb-addd-48ba-80f3-21656cc40489",
   "metadata": {},
   "outputs": [
    {
     "name": "stdout",
     "output_type": "stream",
     "text": [
      "Loaded model from disk\n",
      "1/1 [==============================] - 0s 40ms/step\n",
      "[[1.23152553e-04 3.96056239e-05 3.83000411e-02 9.22000595e-07\n",
      "  1.01418345e-13 2.06834719e-01 2.55822409e-02 7.91219146e-10\n",
      "  8.02073941e-07 7.27908254e-01 6.21561824e-08 1.94143081e-06\n",
      "  2.90114986e-06 1.57453606e-09 2.04618500e-05 5.02030258e-11\n",
      "  3.37402307e-04 4.57990041e-07 1.00302833e-08 2.17412935e-06\n",
      "  7.26999679e-06 8.16618340e-05 2.27949713e-05 8.01543898e-09\n",
      "  7.33174500e-04]]\n",
      "Grape___Esca_(Black_Measles)\n"
     ]
    }
   ],
   "source": [
    "import numpy as np\n",
    "from keras.preprocessing import image\n",
    "from keras.models import Sequential\n",
    "from keras.layers import Dense\n",
    "from keras.models import model_from_json\n",
    "import os\n",
    "import cv2\n",
    "\n",
    "json_file = open('model1.json', 'r')\n",
    "loaded_model_json = json_file.read()\n",
    "json_file.close()\n",
    "loaded_model = model_from_json(loaded_model_json)\n",
    "# load weights into new model\n",
    "loaded_model.load_weights(\"model1.h5\")\n",
    "print(\"Loaded model from disk\")\n",
    "\n",
    "\n",
    "label=[\"Apple___Apple_scab\",\"Apple___Black_rot\",\"Apple___Cedar_apple_rust\",\"Apple___Healthy\",\n",
    "       \"Corn_(maize)___Cercospora_leaf_spot Gray_leaf_spot\",\"Corn_(maize)___Common_rust_\",\n",
    "       \"Corn_(maize)___Healthy\",\"Corn_(maize)___Northern_Leaf_Blight\",\"Grape___Black_rot\",\n",
    "       \"Grape___Esca_(Black_Measles)\",\"Grape___Healthy\",\"Grape___Leaf_blight_(Isariopsis_Leaf_Spot)\",\n",
    "       \"Potato___Early_blight\",\"Potato___Healthy\",\"Potato___Late_blight\",\"Tomato___Bacterial_spot\",\n",
    "       \"Tomato___Early_blight\",\"Tomato___Healthy\",\"Tomato___Late_blight\",\"Tomato___Leaf_Mold\",\n",
    "       \"Tomato___Septoria_leaf_spot\",\"Tomato___Spider_mites Two-spotted_spider_mite\",\"Tomato___Target_Spot\",\n",
    "       \"Tomato___Tomato_Yellow_Leaf_Curl_Virus\",\"Tomato___Tomato_mosaic_virus\"]\n",
    "\n",
    "test_image = image.load_img('/Users/dhayaneyv/Desktop/LeafDisease_2/im_for_testing_purpose/t.mosaicvirus.JPG', target_size = (128, 128))\n",
    "test_image = image.img_to_array(test_image)\n",
    "test_image = np.expand_dims(test_image, axis = 0)\n",
    "result = loaded_model.predict(test_image)\n",
    "print(result)\n",
    "#print(result)\n",
    "fresult=np.max(result)\n",
    "label2=label[result.argmax()]\n",
    "print(label2)"
   ]
  },
  {
   "cell_type": "code",
   "execution_count": null,
   "id": "2ab2af06-d2d0-4196-8600-0e8bb2a7417d",
   "metadata": {},
   "outputs": [],
   "source": []
  }
 ],
 "metadata": {
  "kernelspec": {
   "display_name": "Python 3 (ipykernel)",
   "language": "python",
   "name": "python3"
  },
  "language_info": {
   "codemirror_mode": {
    "name": "ipython",
    "version": 3
   },
   "file_extension": ".py",
   "mimetype": "text/x-python",
   "name": "python",
   "nbconvert_exporter": "python",
   "pygments_lexer": "ipython3",
   "version": "3.11.5"
  }
 },
 "nbformat": 4,
 "nbformat_minor": 5
}
