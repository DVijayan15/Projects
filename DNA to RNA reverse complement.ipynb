{
 "cells": [
  {
   "cell_type": "markdown",
   "id": "6b05d698-228d-4574-b631-dca1f88ef7aa",
   "metadata": {},
   "source": [
    "# Reverse and find complement sequence in R"
   ]
  },
  {
   "cell_type": "code",
   "execution_count": 1,
   "id": "a9d9349f-a0d0-4b70-b1a6-b0115f4aa78e",
   "metadata": {
    "tags": []
   },
   "outputs": [],
   "source": [
    "seq_rev <- function(char) {\n",
    "  alphabets <- strsplit(char, split = \"\")[[1]]\n",
    "  return(rev(alphabets))\n",
    "}"
   ]
  },
  {
   "cell_type": "markdown",
   "id": "734f4545-88af-4d04-9de5-0c05ed949c9b",
   "metadata": {},
   "source": [
    "Find complementary nucleotides."
   ]
  },
  {
   "cell_type": "code",
   "execution_count": 2,
   "id": "f5463fc7-800d-48cf-b4fe-316e3127e29e",
   "metadata": {
    "tags": []
   },
   "outputs": [],
   "source": [
    "seq_compl <- function(seq) {\n",
    "  # Check if there's \"T\" in the sequence\n",
    "  RNA <- Reduce(`|`, seq == \"U\")\n",
    "  cmplvec <- sapply(seq, function(base) {\n",
    "    # This makes DNA the default\n",
    "    # As long as there's no U, the sequence is treated as DNA\n",
    "    if (RNA) {\n",
    "      switch(base, \"A\" = \"U\", \"C\" = \"G\", \"G\" = \"C\", \"U\" = \"A\")\n",
    "    } else {\n",
    "      switch(base, \"A\" = \"T\", \"C\" = \"G\", \"G\" = \"C\", \"T\" = \"A\")\n",
    "    }\n",
    "  })\n",
    "  return(paste(cmplvec, collapse = \"\"))}"
   ]
  },
  {
   "cell_type": "code",
   "execution_count": 8,
   "id": "75f73d43-2b67-4820-b42d-8c679624c6d8",
   "metadata": {
    "tags": []
   },
   "outputs": [
    {
     "data": {
      "text/html": [
       "'ATTGG'"
      ],
      "text/latex": [
       "'ATTGG'"
      ],
      "text/markdown": [
       "'ATTGG'"
      ],
      "text/plain": [
       "[1] \"ATTGG\""
      ]
     },
     "metadata": {},
     "output_type": "display_data"
    },
    {
     "data": {
      "text/html": [
       "'ATTGG'"
      ],
      "text/latex": [
       "'ATTGG'"
      ],
      "text/markdown": [
       "'ATTGG'"
      ],
      "text/plain": [
       "[1] \"ATTGG\""
      ]
     },
     "metadata": {},
     "output_type": "display_data"
    }
   ],
   "source": [
    "seq_compl(seq_rev(\"CCAAT\"))\n",
    "  seq_compl(seq_rev(\"CCAAT\"))"
   ]
  },
  {
   "cell_type": "code",
   "execution_count": 14,
   "id": "8a2da8bf-f3b2-4245-9da8-201fca11ddaf",
   "metadata": {
    "tags": []
   },
   "outputs": [],
   "source": [
    "revcom <- function(input) {\n",
    " \n",
    "  input <- as.character(input)\n",
    "  input <- toupper(input)\n",
    "\n",
    "  \n",
    "  # present in the sequence\n",
    "  legal_char <- Reduce(`&`, grepl(\"^[A,T,C,G,U]*$\", input))\n",
    "\n",
    "  if (!legal_char) {\n",
    "    stop(\"revcom() only applies to DNA/RNA sequences, and only A/T/C/G/U is allowed\")\n",
    "  }\n",
    "\n",
    "  rev <- seq_rev(input)\n",
    "  return(seq_compl(rev))}"
   ]
  },
  {
   "cell_type": "code",
   "execution_count": 15,
   "id": "f0f14c37-724c-47f3-a5e7-5f5c6f903ef3",
   "metadata": {
    "tags": []
   },
   "outputs": [
    {
     "data": {
      "text/html": [
       "'ATGAAAT'"
      ],
      "text/latex": [
       "'ATGAAAT'"
      ],
      "text/markdown": [
       "'ATGAAAT'"
      ],
      "text/plain": [
       "[1] \"ATGAAAT\""
      ]
     },
     "metadata": {},
     "output_type": "display_data"
    }
   ],
   "source": [
    " revcom(\"ATTTCAT\")"
   ]
  },
  {
   "cell_type": "code",
   "execution_count": 22,
   "id": "cf317520-9ddd-4984-a954-242263868553",
   "metadata": {
    "tags": []
   },
   "outputs": [
    {
     "name": "stdout",
     "output_type": "stream",
     "text": [
      "[1] 0.1394323\n"
     ]
    }
   ],
   "source": [
    "# Generate a 100 kb random DNA sequence\n",
    "testseq <- paste(sample(x = c(\"A\", \"T\", \"C\", \"G\"), replace = TRUE, size = 1e5),\n",
    "                 collapse = \"\")\n",
    "\n",
    "# Preallocate a vector to save the running time for each repeat\n",
    "elapsedtime <- vector()\n",
    "\n",
    "# Find reverse-complement sequence for 10 times\n",
    "for (i in seq(10)) {\n",
    "  start <- Sys.time()\n",
    "  invisible(revcom(testseq))\n",
    "  end <- Sys.time()\n",
    "  elapsedtime[i] <- end - start\n",
    "}\n",
    "\n",
    "# Print the averge time spent\n",
    "print(mean(elapsedtime))"
   ]
  },
  {
   "cell_type": "code",
   "execution_count": null,
   "id": "979d4a1b-7291-417c-a64c-eb1134b3b9e2",
   "metadata": {},
   "outputs": [],
   "source": []
  }
 ],
 "metadata": {
  "kernelspec": {
   "display_name": "R",
   "language": "R",
   "name": "conda-env-r-r"
  },
  "language_info": {
   "codemirror_mode": "r",
   "file_extension": ".r",
   "mimetype": "text/x-r-source",
   "name": "R",
   "pygments_lexer": "r",
   "version": "3.5.1"
  }
 },
 "nbformat": 4,
 "nbformat_minor": 5
}
